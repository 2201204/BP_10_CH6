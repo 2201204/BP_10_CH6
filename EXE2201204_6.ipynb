{
  "nbformat": 4,
  "nbformat_minor": 0,
  "metadata": {
    "colab": {
      "provenance": [],
      "authorship_tag": "ABX9TyM9/4JZZJxocWkuqqz3M3LQ",
      "include_colab_link": true
    },
    "kernelspec": {
      "name": "python3",
      "display_name": "Python 3"
    },
    "language_info": {
      "name": "python"
    }
  },
  "cells": [
    {
      "cell_type": "markdown",
      "metadata": {
        "id": "view-in-github",
        "colab_type": "text"
      },
      "source": [
        "<a href=\"https://colab.research.google.com/github/2201204/BP_10_CH6/blob/main/EXE2201204_6.ipynb\" target=\"_parent\"><img src=\"https://colab.research.google.com/assets/colab-badge.svg\" alt=\"Open In Colab\"/></a>"
      ]
    },
    {
      "cell_type": "code",
      "source": [
        "1."
      ],
      "metadata": {
        "id": "vsGxmigCQBTF"
      },
      "execution_count": null,
      "outputs": []
    },
    {
      "cell_type": "code",
      "source": [
        "for i in range(2, 102, 2):\n",
        "  print(i,end=\" \")"
      ],
      "metadata": {
        "colab": {
          "base_uri": "https://localhost:8080/"
        },
        "id": "S3ChYZijPsK6",
        "outputId": "872b5ae9-3fc4-408a-adc7-2b200c5c1d26"
      },
      "execution_count": 5,
      "outputs": [
        {
          "output_type": "stream",
          "name": "stdout",
          "text": [
            "2 4 6 8 10 12 14 16 18 20 22 24 26 28 30 32 34 36 38 40 42 44 46 48 50 52 54 56 58 60 62 64 66 68 70 72 74 76 78 80 82 84 86 88 90 92 94 96 98 100 "
          ]
        }
      ]
    },
    {
      "cell_type": "code",
      "source": [
        "2."
      ],
      "metadata": {
        "id": "8qcGPJd-QDub"
      },
      "execution_count": null,
      "outputs": []
    },
    {
      "cell_type": "code",
      "source": [
        "year = 0\n",
        "balance = 1000\n",
        "\n",
        "while balance <= 2000:\n",
        "  year=year+1\n",
        "  interest=balance*0.07\n",
        "  balance=balance+interest\n",
        "print(year, \"년이 걸립니다.\")"
      ],
      "metadata": {
        "colab": {
          "base_uri": "https://localhost:8080/"
        },
        "id": "q8y5vL5WOH4r",
        "outputId": "f04fd2ba-fcac-4a2b-8ff1-db337d83f1ae"
      },
      "execution_count": 3,
      "outputs": [
        {
          "output_type": "stream",
          "name": "stdout",
          "text": [
            "11 년이 걸립니다.\n"
          ]
        }
      ]
    },
    {
      "cell_type": "code",
      "source": [
        "3."
      ],
      "metadata": {
        "id": "AvP4N8LBQE-L"
      },
      "execution_count": null,
      "outputs": []
    },
    {
      "cell_type": "code",
      "source": [
        "n=1234\n",
        "sum=0\n",
        "while n >0: # n이 0보다 클 때까지 while문을 실행함\n",
        "  dight=n%10 # n을 10으로 나눈 나머지의 값을 digit에 저장\n",
        "  sum=sum+dight # sum에 digit를 저장함\n",
        "  n=n//10 #n을 10으로 나눈 몫으로 값을 변경함\n",
        "print(sum) # while문을 끝까지 실행한 후에 sum을 출력함"
      ],
      "metadata": {
        "colab": {
          "base_uri": "https://localhost:8080/"
        },
        "id": "x3P1MdXkPEaq",
        "outputId": "8504b3f6-1847-4c56-b6a5-ced1d7d2b4c6"
      },
      "execution_count": 4,
      "outputs": [
        {
          "output_type": "stream",
          "name": "stdout",
          "text": [
            "10\n"
          ]
        }
      ]
    },
    {
      "cell_type": "code",
      "source": [
        "4."
      ],
      "metadata": {
        "id": "npOl_BPsQGrk"
      },
      "execution_count": null,
      "outputs": []
    },
    {
      "cell_type": "code",
      "source": [
        "x=int(input(\"3*9는\"))\n",
        "while(x!=27):\n",
        "  x=int(input(\"3*9는\"))\n",
        "print(\"맞았습니다.\")"
      ],
      "metadata": {
        "colab": {
          "base_uri": "https://localhost:8080/"
        },
        "id": "pFApz8IxQIHg",
        "outputId": "392d3861-c4de-424a-802f-dc5e5ed0c473"
      },
      "execution_count": 9,
      "outputs": [
        {
          "output_type": "stream",
          "name": "stdout",
          "text": [
            "3*9는8\n",
            "3*9는9\n",
            "3*9는27\n",
            "맞았습니다.\n"
          ]
        }
      ]
    },
    {
      "cell_type": "code",
      "source": [
        "5."
      ],
      "metadata": {
        "id": "be6EWSOdRjYE"
      },
      "execution_count": null,
      "outputs": []
    },
    {
      "cell_type": "code",
      "source": [
        "a=int(input(\"정수를 입력하시오. :\"))\n",
        "sum=0\n",
        "while True:\n",
        "  if(a==0):break\n",
        "  sum+=a\n",
        "  a=int(input(\"정수를 입력하시오. :\"))\n",
        "print(\"합은\", sum,\"입니다.\")\n"
      ],
      "metadata": {
        "colab": {
          "base_uri": "https://localhost:8080/"
        },
        "id": "Rg-Evwr1Rl7F",
        "outputId": "090d8d5e-69bf-4d22-ddce-ac50068beb4d"
      },
      "execution_count": 18,
      "outputs": [
        {
          "output_type": "stream",
          "name": "stdout",
          "text": [
            "정수를 입력하시오. :1\n",
            "정수를 입력하시오. :2\n",
            "정수를 입력하시오. :3\n",
            "정수를 입력하시오. :0\n",
            "합은 6 입니다.\n"
          ]
        }
      ]
    },
    {
      "cell_type": "code",
      "source": [
        "6."
      ],
      "metadata": {
        "id": "nBsTNSlZTIKg"
      },
      "execution_count": null,
      "outputs": []
    },
    {
      "cell_type": "code",
      "source": [
        "import random\n",
        "for i in range(3):\n",
        "  r=random.randint(1,6) # 1~6까지 랜덤한 수를 저장함\n",
        "  print(\"첫번째 주사위=\",r,end=\" \") \n",
        "  r=random.randint(1,6) # 1~6까지 랜덤한 수를 저장함\n",
        "  print(\"두번째 주사위=\",r)"
      ],
      "metadata": {
        "colab": {
          "base_uri": "https://localhost:8080/"
        },
        "id": "7nWki7COTJrn",
        "outputId": "61b2085c-6bb5-4ee2-af9a-dec5a01e7881"
      },
      "execution_count": 20,
      "outputs": [
        {
          "output_type": "stream",
          "name": "stdout",
          "text": [
            "첫번째 주사위= 2 두번째 주사위= 3\n",
            "첫번째 주사위= 3 두번째 주사위= 2\n",
            "첫번째 주사위= 2 두번째 주사위= 2\n"
          ]
        }
      ]
    },
    {
      "cell_type": "code",
      "source": [],
      "metadata": {
        "id": "9O-afUi2USPK"
      },
      "execution_count": null,
      "outputs": []
    }
  ]
}